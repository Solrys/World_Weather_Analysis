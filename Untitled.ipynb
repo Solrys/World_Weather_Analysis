{
 "cells": [
  {
   "cell_type": "code",
   "execution_count": 1,
   "metadata": {},
   "outputs": [],
   "source": [
    "# Import the dependencies.\n",
    "import pandas as pd\n",
    "import gmaps\n",
    "import requests\n",
    "# Import the API key.\n",
    "from config import g_key\n",
    "\n",
    "\n",
    "import matplotlib.pyplot as plt\n",
    "import numpy as np\n",
    "\n",
    "\n",
    "# Use the citipy module to determine city based on latitude and longitude.\n",
    "from citipy import citipy\n",
    "\n",
    "# Import the datetime module from the datetime library.\n",
    "from datetime import datetime\n",
    "\n",
    "\n",
    "# Import linear regression from the SciPy stats module.\n",
    "from scipy.stats import linregress"
   ]
  },
  {
   "cell_type": "code",
   "execution_count": null,
   "metadata": {},
   "outputs": [],
   "source": [
    "def randomCityGen(size)\n",
    "lats = np.random.uniform(-90.000, 90.000, size=2000)\n",
    "lngs = np.random.uniform(-180.000, 180.000, size=1500)\n",
    "lat_lngs = zip(lats, lngs)\n",
    "lat_lngs"
   ]
  }
 ],
 "metadata": {
  "kernelspec": {
   "display_name": "PythonData",
   "language": "python",
   "name": "pythondata"
  },
  "language_info": {
   "codemirror_mode": {
    "name": "ipython",
    "version": 3
   },
   "file_extension": ".py",
   "mimetype": "text/x-python",
   "name": "python",
   "nbconvert_exporter": "python",
   "pygments_lexer": "ipython3",
   "version": "3.8.5"
  }
 },
 "nbformat": 4,
 "nbformat_minor": 4
}
